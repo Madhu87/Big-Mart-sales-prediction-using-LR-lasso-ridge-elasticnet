{
 "cells": [
  {
   "cell_type": "markdown",
   "metadata": {},
   "source": [
    "# Importing Required Libraries"
   ]
  },
  {
   "cell_type": "code",
   "execution_count": 1,
   "metadata": {},
   "outputs": [],
   "source": [
    "import numpy as np \n",
    "import pandas as pd \n",
    "import matplotlib.pyplot as plt\n",
    "%matplotlib inline\n",
    "import seaborn as sns\n",
    "import warnings\n",
    "warnings.filterwarnings('ignore')"
   ]
  },
  {
   "cell_type": "markdown",
   "metadata": {},
   "source": [
    "# Reading the dataset"
   ]
  },
  {
   "cell_type": "code",
   "execution_count": 2,
   "metadata": {},
   "outputs": [],
   "source": [
    "df = pd.read_csv('Train.csv')"
   ]
  },
  {
   "cell_type": "markdown",
   "metadata": {},
   "source": [
    "# Data Description"
   ]
  },
  {
   "cell_type": "code",
   "execution_count": 3,
   "metadata": {},
   "outputs": [
    {
     "name": "stdout",
     "output_type": "stream",
     "text": [
      "Column_Name :  ['Item_Identifier', 'Item_Weight', 'Item_Fat_Content', 'Item_Visibility', 'Item_Type', 'Item_MRP', 'Outlet_Identifier', 'Outlet_Establishment_Year', 'Outlet_Size', 'Outlet_Location_Type', 'Outlet_Type', 'Item_Outlet_Sales']\n",
      "Data shape :  (8523, 12) ------> Rows : 8523 & Columns : 12\n",
      "\n",
      "Number of Categorical Variables present:  7\n",
      "\n",
      "Number of Numerical Variables present:  4\n",
      "\n",
      "===================================================================================\n",
      "\n",
      "Data Information :\n",
      "\n",
      "<class 'pandas.core.frame.DataFrame'>\n",
      "RangeIndex: 8523 entries, 0 to 8522\n",
      "Data columns (total 12 columns):\n",
      " #   Column                     Non-Null Count  Dtype  \n",
      "---  ------                     --------------  -----  \n",
      " 0   Item_Identifier            8523 non-null   object \n",
      " 1   Item_Weight                7060 non-null   float64\n",
      " 2   Item_Fat_Content           8523 non-null   object \n",
      " 3   Item_Visibility            8523 non-null   float64\n",
      " 4   Item_Type                  8523 non-null   object \n",
      " 5   Item_MRP                   8523 non-null   float64\n",
      " 6   Outlet_Identifier          8523 non-null   object \n",
      " 7   Outlet_Establishment_Year  8523 non-null   int64  \n",
      " 8   Outlet_Size                6113 non-null   object \n",
      " 9   Outlet_Location_Type       8523 non-null   object \n",
      " 10  Outlet_Type                8523 non-null   object \n",
      " 11  Item_Outlet_Sales          8523 non-null   float64\n",
      "dtypes: float64(4), int64(1), object(7)\n",
      "memory usage: 799.2+ KB\n",
      "===============================================================================================\n",
      "\n",
      "Number of Missing Values present in each column :\n",
      "\n",
      "\n",
      " Item_Identifier                 0\n",
      "Item_Weight                  1463\n",
      "Item_Fat_Content                0\n",
      "Item_Visibility                 0\n",
      "Item_Type                       0\n",
      "Item_MRP                        0\n",
      "Outlet_Identifier               0\n",
      "Outlet_Establishment_Year       0\n",
      "Outlet_Size                  2410\n",
      "Outlet_Location_Type            0\n",
      "Outlet_Type                     0\n",
      "Item_Outlet_Sales               0\n",
      "dtype: int64\n",
      "\n",
      "===============================================================================================\n",
      "\n",
      "Number of Unique values present in each column :\n",
      " Item_Identifier              1559\n",
      "Item_Weight                   416\n",
      "Item_Fat_Content                5\n",
      "Item_Visibility              7880\n",
      "Item_Type                      16\n",
      "Item_MRP                     5938\n",
      "Outlet_Identifier              10\n",
      "Outlet_Establishment_Year       9\n",
      "Outlet_Size                     4\n",
      "Outlet_Location_Type            3\n",
      "Outlet_Type                     4\n",
      "Item_Outlet_Sales            3493\n",
      "dtype: int64\n",
      "===================================================================================\n",
      "\n",
      "Item_Outlet_Sales Description :\n",
      " count     8523.000000\n",
      "mean      2181.288914\n",
      "std       1706.499616\n",
      "min         33.290000\n",
      "25%        834.247400\n",
      "50%       1794.331000\n",
      "75%       3101.296400\n",
      "max      13086.964800\n",
      "Name: Item_Outlet_Sales, dtype: float64\n",
      "===================================================================================\n",
      "\n",
      "Distribution of Item Outlet Sales:\n",
      "\n"
     ]
    },
    {
     "data": {
      "image/png": "[encoded data removed]",
      "text/plain": [
       "<Figure size 432x288 with 1 Axes>"
      ]
     },
     "metadata": {
      "needs_background": "light"
     },
     "output_type": "display_data"
    }
   ],
   "source": [
    "def about_data(df):\n",
    "    print('Column_Name : ',df.columns.tolist())\n",
    "    print('Data shape : ',df.shape,'------> Rows :',df.shape[0],'& Columns :',df.shape[1])\n",
    "    print()\n",
    "    cat_var = df.select_dtypes(include =[np.object])\n",
    "    print('Number of Categorical Variables present: ',cat_var.shape[1])\n",
    "    print()\n",
    "    num_var = df.select_dtypes(include =[np.float64])\n",
    "    print('Number of Numerical Variables present: ',num_var.shape[1])\n",
    "           \n",
    "    #------------------------Data Information and Missing Values--------------------------\n",
    "    print('\\n===================================================================================\\n')\n",
    "    \n",
    "    print('Data Information :\\n')\n",
    "    df.info()\n",
    "    print('===============================================================================================\\n')\n",
    "    \n",
    "    print('Number of Missing Values present in each column :\\n')\n",
    "    print('\\n',df.isnull().sum())\n",
    "    print('\\n===============================================================================================\\n')\n",
    "    \n",
    "    print('Number of Unique values present in each column :\\n',df.apply(lambda x : len(x.unique())))\n",
    "     #------------------------Describing Item Outlet Sales--------------------------\n",
    "    print('===================================================================================\\n')\n",
    "        \n",
    "    print('Item_Outlet_Sales Description :\\n',df['Item_Outlet_Sales'].describe())\n",
    "    \n",
    "     #-------------------Distribution of Item Outlet Sales---------------\n",
    "    print('===================================================================================\\n')\n",
    "    print('Distribution of Item Outlet Sales:\\n')\n",
    "    sns.distplot(df['Item_Outlet_Sales'])\n",
    "    \n",
    "about_data(df)"
   ]
  }
 ],
 "metadata": {
  "kernelspec": {
   "display_name": "Python 3",
   "language": "python",
   "name": "python3"
  },
  "language_info": {
   "codemirror_mode": {
    "name": "ipython",
    "version": 3
   },
   "file_extension": ".py",
   "mimetype": "text/x-python",
   "name": "python",
   "nbconvert_exporter": "python",
   "pygments_lexer": "ipython3",
   "version": "3.8.5"
  }
 },
 "nbformat": 4,
 "nbformat_minor": 4
}
